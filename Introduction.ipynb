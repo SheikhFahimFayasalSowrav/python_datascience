{
 "cells": [
  {
   "cell_type": "code",
   "execution_count": 5,
   "metadata": {},
   "outputs": [],
   "source": [
    "#Welcome Friends into the lovely world of Python\n",
    "#Python is an object oriented as well as structured programming language\n",
    "#Let us learn about cells\n",
    "#Blue cells, green cell and markdown cells"
   ]
  },
  {
   "cell_type": "code",
   "execution_count": 4,
   "metadata": {},
   "outputs": [],
   "source": [
    "#Command Mode - Blue Color\n",
    "#Edit Mode - Green color\n",
    "#Press 'p' to view the list of commands\n",
    "#Press 'Shift+Enter' to execute the cells\n",
    "#Press Enter to 'Edit' mode\n",
    "#Press 'Esc' to command mode"
   ]
  },
  {
   "cell_type": "code",
   "execution_count": 7,
   "metadata": {
    "scrolled": false
   },
   "outputs": [
    {
     "name": "stdout",
     "output_type": "stream",
     "text": [
      "Enter Text here: Hello\n",
      "Sowrav Entered,  Hello\n"
     ]
    }
   ],
   "source": [
    "#Welcome to coding cell\n",
    "\n",
    "MyMsg = input (\"Enter Text here: \")\n",
    "print (\"Sowrav Entered, \", MyMsg)"
   ]
  },
  {
   "cell_type": "markdown",
   "metadata": {},
   "source": [
    "### Useful commands\n",
    "\n",
    "Commonly used commands that you require everyday while using python on jupyter Notebook\n",
    "\n",
    "### Command Mode structures\n",
    "\n",
    "<ul>\n",
    "    <li> Esc - To go into command mode\n",
    "    <li> Enter - to go into Edit mode\n",
    "    <li> M - markdown cell mode\n",
    "    <li> y - code cell mode \n",
    "    <li> A - insert new cell above\n",
    "    <li> B- insert new cell below\n",
    "    <li> D + D - to delete cell\n",
    "    <li> Z - undo last \n",
    "    <li> F - find and replace\n",
    "    <li> Shift + up/down - to select multiple cells\n",
    "    <li> Space - scroll notebook downward\n",
    "    <li> Shift + notebook - scroll notebook upward\n",
    "</ul>\n",
    "        \n",
    "### Command Mode structures    \n",
    "\n",
    "<ul> \n",
    "    <li> H - open list of keyboard shortcuts\n",
    "    <li> Shift + Enter - To execute the cell in the current cell and go to the next cell\n",
    "    <li> Alt + Enter - to execute the cell in the current cell and insert a new cell below\n",
    "    <li> Shift + Tab - to get a brief description what you have just typed in the coding cell \n",
    "    <li> Ctrl + Shift + - : to split the cell at cursor\n",
    "    <li> shift + M - to merge selected cells.\n",
    "</ul>     \n",
    "        \n",
    "        \n",
    "        \n",
    "    \n",
    "    \n",
    "    \n"
   ]
  },
  {
   "cell_type": "markdown",
   "metadata": {},
   "source": [
    "Sample markdown cell\n",
    "\n",
    "# Title\n",
    "## Heading\n",
    "### subheading\n",
    "#### next level\n",
    "##### 5th make it italic heading\n",
    "###### small but italic\n",
    "####### no more. 6th is last. \n",
    "\n"
   ]
  },
  {
   "cell_type": "markdown",
   "metadata": {},
   "source": [
    "### Font Highlight - Monospace\n",
    "\n",
    "single quistion mark (`)\n",
    "\n",
    "example: `Highlighted text`. `hello dear.` "
   ]
  },
  {
   "cell_type": "markdown",
   "metadata": {},
   "source": [
    "### markdoen cells - few formating styles\n",
    "\n",
    "__\"Bold Text\"__\n",
    "\n",
    "**BOLD TEXT**\n",
    "\n",
    "_\"Italic\"_\n",
    "\n",
    "*Italic*\n",
    "\n",
    "***Italic and Bold***\n",
    "\n"
   ]
  },
  {
   "cell_type": "markdown",
   "metadata": {},
   "source": [
    "### Indenting\n",
    "\n",
    "Indent test using '>'\n",
    "\n",
    "Example: \n",
    "\n",
    "> level 1\n",
    ">> Level 2\n",
    ">>> Level 3\n"
   ]
  },
  {
   "cell_type": "markdown",
   "metadata": {},
   "source": [
    "### Line break\n",
    "\n",
    "Use line breaker `<br>`\n",
    "\n",
    "hello \n",
    "    This is with out line break 1\n",
    "    This is with out line break 2\n",
    "\n",
    "Hello <br>\n",
    "    This is with line break 1 <br>\n",
    "    This is with line brak 2 <br>\n",
    "    "
   ]
  },
  {
   "cell_type": "markdown",
   "metadata": {},
   "source": [
    "### Coloring\n",
    "\n",
    "- <font color= green> I am green </font>\n",
    "- <font color= blue> I am blue </font>"
   ]
  },
  {
   "cell_type": "markdown",
   "metadata": {},
   "source": [
    "### Bullets and Numbering\n",
    "\n",
    "-  A dash followed by 2 spaces creates a bullet\n",
    "    - a tab before a dash is a sub bullet\n",
    "\n",
    "`<ul> <li>` also create bullets like HTML\n",
    "\n",
    "#### Numbering\n",
    "\n",
    "`1. ` followed by a dot and space and keep doing it. \n",
    "\n",
    "Example: \n",
    "1. number1\n",
    "2. number2\n",
    "3. number3\n",
    "\n",
    "Subnumber\n",
    "1. number\n",
    "   2. subnumber (3 spaces before)\n"
   ]
  },
  {
   "cell_type": "markdown",
   "metadata": {},
   "source": [
    "### Image Insertion\n",
    "\n",
    "pick image from the web `<img src = \"path\">`\n",
    "\n",
    "Example:\n",
    "<img src = \"https://lh3.googleusercontent.com/proxy/b2bLJHZItUxOcQlAqRGkIWj_y3AIKzAyO58ngp-1TWGzEidCUQEmLfOonuXZpPzHQ5fY7MTh96HuUl-7dsAfW7tNGSNtwZVxGgy35JGCtTo9I2DDehM\">\n",
    "\n"
   ]
  },
  {
   "cell_type": "markdown",
   "metadata": {},
   "source": [
    "### LaTex Equetion\n",
    "\n",
    "Use a \"$\" on the each side to write a LaTex equation\n",
    "\n",
    "Example: \n",
    "\n",
    "$(\\frac{a_1}{a_2} + \\frac{a_3}{a_4})^2 = a_5^3 $\n",
    "\n",
    "\n",
    "Useful Link: https://en.wikibooks.org/wiki/LaTeX/Mathematics to learn the LaTex Syntex\n"
   ]
  },
  {
   "cell_type": "code",
   "execution_count": null,
   "metadata": {},
   "outputs": [],
   "source": []
  }
 ],
 "metadata": {
  "kernelspec": {
   "display_name": "Python 3",
   "language": "python",
   "name": "python3"
  },
  "language_info": {
   "codemirror_mode": {
    "name": "ipython",
    "version": 3
   },
   "file_extension": ".py",
   "mimetype": "text/x-python",
   "name": "python",
   "nbconvert_exporter": "python",
   "pygments_lexer": "ipython3",
   "version": "3.7.6"
  }
 },
 "nbformat": 4,
 "nbformat_minor": 4
}
